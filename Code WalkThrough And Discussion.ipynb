{
  "cells": [
    {
      "cell_type": "markdown",
      "source": [
        "# Kamiar Coffey\n",
        "\n",
        "# Using A Neural Net To Predict The Best Players For Fantasy Premier League\n",
        "\n",
        "This jupyter notebook is a walk-through of my work so far. It includes all the code from the python files, and can be run as a stand-alone. As is, some cells are commented-out because they pull from the fantasy premier league site: https://fantasy.premierleague.com/drf/... All data from these APIs has been dowloaded locally, parsed, and stored as .json files in the main directory. Subsequent cells reference these files, but the original API calls can be used to overwrite and refresh JSON files.\n",
        "\n",
        "Some useful abbreviations. I will use the periodically in the write-up:\n",
        "- FPL = Fantasy Premier League\n",
        "- PL = Premier League\n",
        "- ML/NN = Machine Learning / Neural Net (will often be the names of variables in code too that refer to a neural net object)\n"
      ],
      "metadata": {}
    },
    {
      "cell_type": "markdown",
      "source": [
        "# 1. A description of the problem I am considering\n",
        "\n",
        "\n",
        "I will create a machine learning program (using a neural network) to help in drafting players for fantasy Premier League. Fantasy Premier league is an online platform that lets groups of people “draft” a team – i.e. create a set of players – from the English Premier League. Players accumulate points on various metrics of gameplay, and the winning fantasy owner is the person whose team has cumulatively earned the most points. Winning is not trivial. My solution is to create a tool that makes winning easier. This addresses multiple problems:\n",
        " - First: It remains an undecided problem what characteristics make a good soccer (aka football) player. Should we measure physical attributes like speed, height, or ball-touches per game? Or should we look at previous year’s performance? How useful is a previous year’s performance? For example, player stats do fluctuate year to year. Are some players better in winter months? Can stats be influenced by which team a player plays for? This method solves these issues because a neural net will address these problems by selecting the best factors.\n",
        "\n",
        "- Second: There is not a direct one-to-one map between player “performance” and points awarded in the draft system. Instead, points are awarded according to the lookup table for various actions shown here in the appendix. The machine learning system is similarly suited to develop its own weights for these actions given their point contributions.\n",
        "\n",
        "\n",
        "Below is a table of how actions during a game are mapped to FPL points [3]. I will use these items as features:\n",
        "\n",
        "| ﻿Action \t| Points \t|\n",
        "|----------------------------------------------------\t|--------\t|\n",
        "| Playing up to 60 minutes \t| 1 \t|\n",
        "| Playing 60 minutes or more (excluding injury time) \t| 2 \t|\n",
        "| Goal scored by a goalkeeper or defender \t| 6 \t|\n",
        "| Goal scored by a midfielder \t| 5 \t|\n",
        "| Goal scored by a forward \t| 4 \t|\n",
        "| Goal assist \t| 3 \t|\n",
        "| Clean sheet by a goalkeeper or defender \t| 4 \t|\n",
        "| Clean sheet by a midfielder \t| 1 \t|\n",
        "| Every 3 saves by a goalkeeper \t| 1 \t|\n",
        "| Penalty save \t| 5 \t|\n",
        "| Penalty miss \t| -2 \t|\n",
        "| Being among the best players in a match \t| 2 \t|\n",
        "| Every 2 goals conceded by a goalkeeper or defender \t| -1 \t|\n",
        "| Yellow card \t| -1 \t|\n",
        "| Red card \t| -3 \t|\n",
        "| Own goal \t| -2 \t|"
      ],
      "metadata": {}
    },
    {
      "cell_type": "markdown",
      "source": [
        "# 2. A description of methods, in-depth description and assumptions\n",
        "\n",
        "**Overview**\n",
        "There are two parts to the methods: wrangling the data and building the neural net. A detailed walk-through of my process is below. Here is a high-level overview of the architecture used and assumptions made. \n",
        "\n",
        "**High-Level Data Collection**\n",
        "Data from the Premier League API comes in the form of data per game. So, to build the data set, I called the API for each player and each game and created a python dictionary where each key value pair was a player and his features vector. The features vector is the sum of each game's features vector for that player.\n",
        "\n",
        "**Neural Net Architecture**\n",
        "\n",
        "I implemented a neural net which takes as input an input vector of 35 integers. Each position in the input vector corresponds to a specific action-event which occured during the 2018 Premier League season. For example, one entry is number of goals scored, a second is number of yellow cards awarded. A full list of these features is included below. \n",
        "\n",
        "The neural net has as output a vector of length one (a single number) which represents the total number of FPL points awarded for a single player over an entire season. This output was chosen because an FPL player's team's total score is the sum of every player on the roster's FPL points over the duration that they were on the roster. \n",
        "\n",
        "The network has one hidden layer. As such, it has two vectors of weights: weights1 and weights2. Weights1 maps the input vector to the hidden layer and weights2 maps the hidden layer to the output.\n",
        "\n",
        "\n",
        "**Neural Net Mechanics**\n",
        "To train the model, I passed in 587 input vectors and 587 of their corresponding output vectors, each group corresponding to a single player. Ingesting all this training data a single time is considered a single epoch [5]. The model was trained on around 1000 epochs.\n",
        "\n",
        "Weights were initialized to random fractions whose absolute value is less than one. This is because some features, like yellow cards cause players to loose points.\n",
        "$$\\{|x_1|...|x_n|\\} \\in w1, \\{y_1|...|y_n|\\} \\in w_2 < 1 $$ \n",
        "\n",
        "The neural net was trained using gradient descent for forward propagation and a loss function of Sum of Squared Error (SSE) in backward propagation. SSE was chosen because the underlying data was assumed to follow a Gaussian distribution[4]\n",
        "\n",
        "Gradient descent essentially causes the model to learn a set of weights for $w_1$ and $w_2$ which when fully trained are the solution for predicting how many FPL points a player will earn over a season given his input vector of actionable events. The actionable events can be taken from a single game and scaled by the number of games in a season to give an estimate of total points. The final points value is calculated by taking a dot product of the input vector and the weights. The neural net was built with a parameter for the learning rate, which factors into this training by adjusting the rate at which new gradient descent values are adopted by the weights data member. \n",
        "\n",
        "Output layer calculated by feeding forward, then feeding back.\n",
        "\n",
        "**Feed forward:** $$z = \\sigma(W_1x+b_1)$$\n",
        "\n",
        "**Back probagation:** $$ W_2z+b_2 $$\n",
        "\n",
        "**Where the output $\\hat{y}$ is:**\n",
        "\n",
        "$$\\hat{y} = \\sigma(W_2(\\sigma(W_1x+b_1)+b_2)$$\n",
        "\n",
        "**Assumptions**\n",
        "- Underlying distribtion of player stats is Gaussian [2]\n",
        "- Some features map to negative FPL points and some map to positive FPL points, so weights must be randomly initialized as positive or negative -- not just positive between 0 and 1\n",
        "- Gradient descent will allow these weights to adjust properly in the 35 dimensional space"
      ],
      "metadata": {}
    },
    {
      "cell_type": "markdown",
      "source": [
        "### Step 1: Getting The Data"
      ],
      "metadata": {}
    },
    {
      "cell_type": "code",
      "source": [
        "# a list of all include statements for the entire notebook - re-run this cell if code is edited further down\n",
        "import json\n",
        "import requests\n",
        "import lxml.html as lh\n",
        "import operator\n",
        "import pandas as pd\n",
        "import numpy as np\n",
        "from scipy import special\n",
        "import scipy.stats as stats\n",
        "import scipy\n",
        "import matplotlib.pyplot as plt\n",
        "from collections import defaultdict"
      ],
      "outputs": [],
      "execution_count": 1,
      "metadata": {}
    },
    {
      "cell_type": "code",
      "source": [
        "# FPL data is dumpted here, but it is aggreated not by player\n",
        "STATS_URL = 'https://fantasy.premierleague.com/drf/bootstrap-static'\n",
        "\n",
        "# FPL data is dumpted here by player where playerNumber is appended to the end of the API call string\n",
        "PLAYER_URL = \"https://fantasy.premierleague.com/drf/element-summary/\" # [playerNumber]"
      ],
      "outputs": [],
      "execution_count": 2,
      "metadata": {}
    },
    {
      "cell_type": "markdown",
      "source": [
        "**1.1 Calling The API**\n",
        "\n",
        "It looks like the data is organized by team, then by player. This shouldn't be a problem; it will just require a little parsing and wrangling. But it raises another interesting question--would it be worthwhile to run similar Machine Learning techniques using teams as the output parameters rather than players? As in, can we use FPL data as a parameter to predict which team will end up winning the PL in real life? Let's table this for now and keep moving."
      ],
      "metadata": {}
    },
    {
      "cell_type": "markdown",
      "source": [
        "Below is a function to querry the API and dump the response"
      ],
      "metadata": {}
    },
    {
      "cell_type": "code",
      "source": [
        "# better not to querry the API a million times - read it to a file\n",
        "# def readAPItoFile():\n",
        "#     r = requests.get(STATS_URL)\n",
        "#     jsonResponse = r.json()\n",
        "#     with open(\"leagueInfo.json\", 'w') as outfile:\n",
        "#         json.dump(jsonResponse, outfile)\n",
        "\n",
        "# readAPItoFile()"
      ],
      "outputs": [],
      "execution_count": 3,
      "metadata": {}
    },
    {
      "cell_type": "markdown",
      "source": [
        "Below is a function to read the JSON file into a working object for this notebook. Re-run this cell if the kernel is restarted"
      ],
      "metadata": {}
    },
    {
      "cell_type": "code",
      "source": [
        "# turn the JSON into an object\n",
        "def getAllPlayersDetailedJson():\n",
        "    with open('leagueInfo.json') as json_data:\n",
        "        dataObject = json.load(json_data)\n",
        "        return dataObject\n",
        "\n",
        "dataObject = getAllPlayersDetailedJson()"
      ],
      "outputs": [],
      "execution_count": 4,
      "metadata": {}
    },
    {
      "cell_type": "markdown",
      "source": [
        "**1.2 Building The Data Set**\n",
        "\n",
        "Below is a list of functions that will return dictionaries allowing me to use player names and player FLP primary keyIDs to lookup their total FPF points earned last season. To test if the ML model works I will need some baseline to compare my model against picking randomly. Even better than random is a naive approach that looks at just the number of FPL points earned per minute played."
      ],
      "metadata": {}
    },
    {
      "cell_type": "code",
      "source": [
        "# just for fun, lets get a list of player names. I think I'll need their playerID as the primay key, but gotta make sure this works\n",
        "def getListofPlayers():\n",
        "    allPlayers = getAllPlayersDetailedJson()\n",
        "    namelist = []\n",
        "    for entry in allPlayers[\"elements\"]:\n",
        "        namelist.append([entry['first_name'], entry['second_name']])\n",
        "    return nameList\n",
        "\n",
        "def playersToPoints():\n",
        "    allPlayers = getAllPlayersDetailedJson()\n",
        "    pointsPerPlayer = {}\n",
        "    for entry in allPlayers[\"elements\"]:\n",
        "        pointsPerPlayer[entry['web_name']] = entry['total_points']\n",
        "    return pointsPerPlayer\n",
        "\n",
        "def playersToId():\n",
        "    allPlayers = getAllPlayersDetailedJson()\n",
        "    dict = {}\n",
        "    for entry in allPlayers[\"elements\"]:\n",
        "        dict[entry['second_name']] = entry['id']\n",
        "    return dict\n",
        "\n",
        "def idToPlayer():\n",
        "    allPlayers = getAllPlayersDetailedJson()\n",
        "    dict = {}\n",
        "    for entry in allPlayers[\"elements\"]:\n",
        "        dict[entry['id']] = entry['second_name']\n",
        "    return dict\n",
        "\n",
        "def findBestRatioPlayer():\n",
        "    allPlayers = getAllPlayersDetailedJson()\n",
        "    points_per_min = []\n",
        "    for entry in allPlayers[\"elements\"]:\n",
        "        # format: ['first_name last_name', points_per_min]\n",
        "        if entry['minutes'] > 0:\n",
        "            points_per_min.append([entry['id'], entry['first_name']+' '+entry['second_name'], (entry['total_points']/entry['minutes'])])\n",
        "    points_per_min.sort(key=lambda x: x[1], reverse=True)\n",
        "    return points_per_min\n",
        "\n",
        "def findTotalPoints():\n",
        "    allPlayers = getAllPlayersDetailedJson()\n",
        "    points_per_min = []\n",
        "    for entry in allPlayers[\"elements\"]:\n",
        "        # format: ['first_name last_name', points_per_min]\n",
        "        points_per_min.append([entry['web_name'], entry['total_points']])\n",
        "    points_per_min.sort(key=lambda x: x[1], reverse=True)\n",
        "    return points_per_min\n",
        "\n",
        "ppm_df = pd.DataFrame(findBestRatioPlayer(), columns=['ID', 'Player Name', 'FPL points/minute'])\n",
        "ppm_df.head(15)\n",
        "\n",
        "totalPoints_df=pd.DataFrame(findTotalPoints(), columns=['Player Name', 'FPL Points So Far'])"
      ],
      "outputs": [],
      "execution_count": 5,
      "metadata": {}
    },
    {
      "cell_type": "markdown",
      "source": [
        "**1.3 Finding A Benchmark**\n",
        "\n",
        "Ok, there is a baseline benchmark to beat. It takes a single python function to return a sorted list of players based on the number of points awarded per minute played. This metric here is **points awarded by the Premier League Fantasy system, not points scored via goals**. In any case, it seems like a reasonable baseline metric to find the most valuable players. After the machine learning version has selected it's top players, I would hope that they are at least similar to these players, and hopefully better. I will measure this in terms of actual points awarded in the following n number of games. "
      ],
      "metadata": {}
    },
    {
      "cell_type": "markdown",
      "source": [
        "### Step 2: Designing The Neural Net\n",
        "\n",
        "**2.1 Building NN Features**\n",
        "\n",
        "Now we need to parse the JSON data from the API a bit more. In order to feed things into the neural net, we need them organized differently from the API dump. To build an input vector we need to reference each player's ID aka \"web_name\" field from the dataObject dump.\n",
        "\n",
        "Below is a list of things that will earn a player FLP points:\n",
        "1. Playing up to 60 minutes\t1\n",
        "2. Playing 60 minutes or more (excluding injury time)\t2\n",
        "3. Goal scored by a goalkeeper or defender\t6\n",
        "4. Goal scored by a midfielder\t5\n",
        "5. Goal scored by a forward\t4\n",
        "6. Goal assist\t3\n",
        "7. Clean sheet by a goalkeeper or defender\t4\n",
        "8. Clean sheet by a midfielder\t1\n",
        "9. Every 3 saves by a goalkeeper\t1\n",
        "9. Penalty save\t5\n",
        "10. Penalty miss\t-2\n",
        "11. Being among the best players in a match\t1-3\n",
        "12. Every 2 goals conceded by a goalkeeper or defender\t-1\n",
        "13. Yellow card\t-1\n",
        "14. Red card\t-3\n",
        "15. Own goal\t-2\n",
        "\n",
        "\n",
        "\n",
        "**Some thoughts**: \n",
        "- Some of the features that PL uses to calculated FPL points are negative. This isn't a problem, the vector weights that correspond to those will just have to end up being learned as negatives\n",
        "\n",
        "- some of these features are specific to players of different positions. In FPL draft, you are are required to draft a certain minimum quantity of each position, and the difference between total squad size and the sum of these minimums is left as discretionary selection. For the purposes of this ML experiement, I will not attempt to parse players by category. If it so happends than forwards earn the most points of any position, then my ML model should just reccomend you to pick all forwards. Turning this into a useful application shouldn't be a problem-- use the existing ML output and just filter by highest ranked player avialable in your category of choice. \n",
        "\n",
        "\n",
        "Based on the data available, and my knowledge of how soccer games work, I have selected this list of feature lables that we can apply to each player. I have included a one-to-one map of the 15 categories that directly award points, and have found another 14 features that I think make interesting variables (such as passes attempted and completed) which map to actual high quality play).\n",
        "\n",
        "\n",
        "Each player will thus be an input node with a feature vector of length 35 with a value for each of the following items:\n",
        "\n",
        "0.  goals_scored\n",
        "1.  assists\n",
        "2.  clean_sheets\n",
        "3.  goals_conceded\n",
        "4.  own_goals\n",
        "5.  penalties_saved\n",
        "6.  penalties_missed\n",
        "7.  yellow_cards\n",
        "8.  red_cards\n",
        "9.  saves\n",
        "10.  open_play_crosses\n",
        "11.  big_chances_created\n",
        "12.  clearances_blocks_interceptions\n",
        "13.  recoveries\n",
        "14.  key_passes\n",
        "15.  tackles\n",
        "16.  winning_goals\n",
        "17.  attempted_passes\n",
        "18.  completed_passes\n",
        "19.  penalties_conceded\n",
        "20.  big_chances_missed\n",
        "21.  errors_leading_to_goal\n",
        "22.  errors_leading_to_goal_attempt\n",
        "23.  tackled\n",
        "24.  offside\n",
        "25.  target_missed\n",
        "26.  fouls\n",
        "27.  dribbles\n",
        "28.  open_play_crosses\n",
        "29.  big_chances_created\n",
        "30.  clearances_blocks_interceptions\n",
        "31.  recoveries\n",
        "32.  key_passes\n",
        "33.  errors_leading_to_goal\n",
        "34.  errors_leading_to_goal_attempt"
      ],
      "metadata": {}
    },
    {
      "cell_type": "code",
      "source": [
        "featuresVector = ['goals_scored', 'assists', 'clean_sheets', 'goals_conceded', 'own_goals','penalties_saved','penalties_missed',\n",
        "        'yellow_cards','red_cards', 'saves', 'open_play_crosses','big_chances_created','clearances_blocks_interceptions',\n",
        "        'recoveries','key_passes', 'tackles','winning_goals','attempted_passes','completed_passes', 'penalties_conceded',\n",
        "        'big_chances_missed','errors_leading_to_goal','errors_leading_to_goal_attempt','tackled','offside','target_missed',\n",
        "        'fouls','dribbles','open_play_crosses','big_chances_created',' clearances_blocks_interceptions','recoveries',\n",
        "        'key_passes','errors_leading_to_goal','errors_leading_to_goal_attempt']"
      ],
      "outputs": [],
      "execution_count": 6,
      "metadata": {}
    },
    {
      "cell_type": "markdown",
      "source": [
        "**2.2 Building the Input Vector**\n",
        "\n",
        "This call will populate the featuresVector for each player. It will call the API for each player's key then it will accumulate (sum) the features for each game of the season into a single vector, which will be the entry for a dictionary with the player's last name as the key"
      ],
      "metadata": {}
    },
    {
      "cell_type": "code",
      "source": [
        "'''THIS API CALL WILL TAKE 5 MINUTES. DON'T RE-RUN UNLESS NECESSARY!\n",
        "the data will be saved to the playerVectorDictionary.json file, \n",
        "and can be reloaded via the getVectorsFromJSON functon'''\n",
        "\n",
        "# playerDataDictionary = dataObject['elements']\n",
        "# playerNames = {}\n",
        "\n",
        "# for i in playerDataDictionary:\n",
        "#     playerNames[i['id']] = i['web_name']\n",
        "    \n",
        "# playerVectorDictionary = defaultdict(dict)\n",
        "\n",
        "# for player in playerNames:\n",
        "#     r = requests.get(PLAYER_URL + str(player))\n",
        "#     data = json.loads(r.text)['history'] # this is a list of dictionary entries\n",
        "#     for entry in data:\n",
        "#         entryVector = [entry[feature] for feature in featuresVector]\n",
        "#         playerVectorDictionary[playerNames[player]] = list(map(operator.add, playerVectorDictionary.setdefault(playerNames[player], [0]*len(entryVector)), entryVector)) # accumulate each game entry\n",
        "    \n",
        "# playerVectorDictionary_json = json.dumps(playerVectorDictionary)\n",
        "# f = open(\"playerVectorDictionary.json\",\"w\")\n",
        "# f.write(playerVectorDictionary_json)\n",
        "# f.close()        "
      ],
      "outputs": [
        {
          "output_type": "execute_result",
          "execution_count": 7,
          "data": {
            "text/plain": [
              "\"THIS API CALL WILL TAKE 5 MINUTES. DON'T RE-RUN UNLESS NECESSARY!\\nthe data will be saved to the playerVectorDictionary.json file, \\nand can be reloaded via the getVectorsFromJSON functon\""
            ]
          },
          "metadata": {}
        }
      ],
      "execution_count": 7,
      "metadata": {}
    },
    {
      "cell_type": "markdown",
      "source": [
        "Substitute for calling the API - use the local file"
      ],
      "metadata": {}
    },
    {
      "cell_type": "code",
      "source": [
        "def getVectorsFromJSON():\n",
        "    with open('playerVectorDictionary.json') as json_data:\n",
        "        dataObject = json.load(json_data)\n",
        "        return dataObject\n",
        "    \n",
        "playerVectorDictionary = getVectorsFromJSON()"
      ],
      "outputs": [],
      "execution_count": 8,
      "metadata": {}
    },
    {
      "cell_type": "markdown",
      "source": [
        "The dictionary **playerVectorDictionary** now includes an entry with the last name of each player as the key and their input vector as the weights. From earlier, we also have a list of players by their total points scored per season. We will use playerVectorDictionary as our input vecctor $x$ and total points as y in the Neural Network. Since the current network only has one layer, I will need to find some way of running its weights for each player. Lets just see what happens to the weights when we do it for one player"
      ],
      "metadata": {}
    },
    {
      "cell_type": "code",
      "source": [
        "x = np.array(list(playerVectorDictionary.values()))\n",
        "y = np.array([[playersToPoints()[player]] for player in playerVectorDictionary.keys()])\n",
        "print(\"check that vector sizes match!!\", len(y), \"=?\", len(x))"
      ],
      "outputs": [
        {
          "output_type": "stream",
          "name": "stdout",
          "text": [
            "check that vector sizes match!! 587 =? 587\n"
          ]
        }
      ],
      "execution_count": 9,
      "metadata": {}
    },
    {
      "cell_type": "markdown",
      "source": [
        "**2.3 Choosing A Loss Function**\n",
        "\n",
        "1. SSE (Sum squared errors)\n",
        "2. Mean squared Log Error\n",
        "4. Cross-Entropy Loss\n",
        "5. Kullback Leibler Divergence?"
      ],
      "metadata": {}
    },
    {
      "cell_type": "markdown",
      "source": [
        "**2.4 Building The Machinery**\n",
        "\n",
        "\n",
        "I will define $W_1$ as the weights corresponding to the layer fron inputs to the hidden layer and $W_2$ as the weights from the hidden layer to the output later. $x$ will be the input vector and $\\hat{y}$ the output vector.\n",
        "\n",
        "Output layer calculated by feeding forward, then feeding back.\n",
        "\n",
        "**Feed forward:** $$z = \\sigma(W_1x+b_1)$$\n",
        "\n",
        "**Back probagation:** $$ W_2z+b_2 $$\n",
        "\n",
        "**Where the output $\\hat{y}$ is:**\n",
        "\n",
        "$$\\hat{y} = \\sigma(W_2(\\sigma(W_1x+b_1)+b_2)$$"
      ],
      "metadata": {}
    },
    {
      "cell_type": "code",
      "source": [
        "# Some helper math functions\n",
        "\n",
        "def CrossEntropy(yHat, y):\n",
        "    if y == 1:\n",
        "        return -log(yHat)\n",
        "    else:\n",
        "        return -log(1 - yHat)\n",
        "    \n",
        "def sigmoidDerivative(x):\n",
        "    return x * (1.0 - x)"
      ],
      "outputs": [],
      "execution_count": 10,
      "metadata": {}
    },
    {
      "cell_type": "code",
      "source": [
        "class NeuralNet:\n",
        "    def __init__(self, x, y, iterations = 100, learningRate=.33): # give it some default parameters\n",
        "        self.n_in = len(x[0]) # make the dimensionality dependent on the inputs\n",
        "        self.n_out = 1\n",
        "        self.n_hidden = len(x)\n",
        "        size1 = (self.n_in, self.n_hidden)\n",
        "        size2 = (self.n_hidden, self.n_out)\n",
        "        self.weights1 = np.random.uniform(-.01, .1, size1) # weights from input to nodes\n",
        "        self.weights2 = np.random.uniform(-.01, .1, size2) # weights from nodes to output\n",
        "        self.iterations = iterations\n",
        "        self.learningRate = learningRate\n",
        "        \n",
        "    def sigmoidDerivative(self, x): # basic calculus\n",
        "        return x * (1 - x)\n",
        "\n",
        "    def feedForward(self, X): # an implementation of the above equation \n",
        "        self.z = scipy.special.expit(np.dot(X, self.weights1)) # X is the vector being fed forward\n",
        "        self.z_prime = np.dot(self.z, self.weights2) # has to be a parameter because we have ver 500 players to train with\n",
        "        return scipy.special.expit(self.z_prime)  \n",
        "\n",
        "    def backProp(self, x, y, update):\n",
        "        self.loss = y - update # loss needs to be stored as a data member because back prop needs to re-access it\n",
        "        self.loss_adjustment = self.loss * self.sigmoidDerivative(update) \n",
        "        self.z_error = self.loss_adjustment.dot(self.weights2.T)  # implementation of text book code\n",
        "        self.z_adjustment = self.z_error * self.sigmoidDerivative(self.z) * self.learningRate\n",
        "        self.weights1 += x.T.dot(self.z_adjustment)  \n",
        "        self.weights2 += self.z.T.dot(self.loss_adjustment)\n",
        "\n",
        "    def train(self, x, y):\n",
        "        for _ in range (self.iterations):\n",
        "            update = self.feedForward(x)\n",
        "            self.backProp(x, y, update)\n",
        "    \n",
        "    def run(self, testVector):\n",
        "        sum =0\n",
        "        for i in range (len(self.weights1)):\n",
        "            sum += testVector[i] * self.weights1[i][0]\n",
        "        return sum"
      ],
      "outputs": [],
      "execution_count": 11,
      "metadata": {}
    },
    {
      "cell_type": "markdown",
      "source": [
        "### Step 3: Development Testing \n",
        "\n",
        "\n",
        "**3.1 Finding A Good Learning Rate**\n",
        "\n",
        "Below I have set up a test to see how the learning rate converges (or not) as it moves from 1 to .05"
      ],
      "metadata": {}
    },
    {
      "cell_type": "code",
      "source": [
        "expectedValue_LR = []\n",
        "# run a loop where each iteration is training with a different learning rate\n",
        "for i in range (1, 20):\n",
        "    learningRate = (1/i)\n",
        "    NN = NeuralNet(x, y, 500, learningRate)\n",
        "    NN.train(x, y)\n",
        "    inputVector = np.array(([19, 7, 7, 37, 0, 0, 1, 0, 0, 0, 8, 6, 25, 60, 30, 11, 4, 619, 463, 0, 16, 0, 0, 52, 23, 27, 13, 22, 8, 6, 25, 60, 30, 0, 0]))\n",
        "    predictedPoints = NN.run(inputVector)\n",
        "    expectedValue_LR.append((learningRate, predictedPoints))"
      ],
      "outputs": [],
      "execution_count": 25,
      "metadata": {}
    },
    {
      "cell_type": "code",
      "source": [
        "plt.plot(*zip(*expectedValue_LR))\n",
        "plt.ylabel('Converged Expected FLP Points')\n",
        "plt.xlabel('Learning Rate Used In Model')\n",
        "plt.title('Examination of Learning Rate Impact On Model Output')\n",
        "plt.show()"
      ],
      "outputs": [
        {
          "output_type": "display_data",
          "data": {
            "image/png": "[encoded data removed]",
            "text/plain": [
              "<Figure size 432x288 with 1 Axes>"
            ]
          },
          "metadata": {
            "needs_background": "light"
          }
        }
      ],
      "execution_count": 24,
      "metadata": {}
    },
    {
      "cell_type": "markdown",
      "source": [
        "**3.2 Finding A Good Number Of Layers**\n",
        "\n",
        "Below I have set up a test to see how the predicted output converges as the number of iterations increases"
      ],
      "metadata": {}
    },
    {
      "cell_type": "code",
      "source": [
        "expectedValue_Trials = []\n",
        "for i in range (1, 1000, 100):\n",
        "    NN = NeuralNet(x, y, i, .3)\n",
        "    NN.train(x, y)\n",
        "    inputVector = np.array(([19, 7, 7, 37, 0, 0, 1, 0, 0, 0, 8, 6, 25, 60, 30, 11, 4, 619, 463, 0, 16, 0, 0, 52, 23, 27, 13, 22, 8, 6, 25, 60, 30, 0, 0]))\n",
        "    predictedPoints = NN.run(inputVector)\n",
        "    expectedValue_Trials.append((i, predictedPoints))"
      ],
      "outputs": [],
      "execution_count": 26,
      "metadata": {
        "scrolled": true
      }
    },
    {
      "cell_type": "code",
      "source": [
        "plt.plot(*zip(*expectedValue_Trials))\n",
        "plt.ylabel('Converged Expected FLP Points')\n",
        "plt.xlabel('Number Of Trials Used In Model')\n",
        "plt.title(\"Modeling Network Trial Counts\")\n",
        "plt.show()"
      ],
      "outputs": [
        {
          "output_type": "display_data",
          "data": {
            "image/png": "[encoded data removed]",
            "text/plain": [
              "<Figure size 432x288 with 1 Axes>"
            ]
          },
          "metadata": {
            "needs_background": "light"
          }
        }
      ],
      "execution_count": 27,
      "metadata": {}
    },
    {
      "cell_type": "code",
      "source": [
        "learningRate = 0.3\n",
        "n_trials = 100\n",
        "NN = NeuralNet(x, y, n_trials, learningRate)\n",
        "NN.train(x, y)\n",
        "inputVector = np.array(([19, 7, 7, 37, 0, 0, 1, 0, 0, 0, 8, 6, 25, 60, 30, 11, 4, 619, 463, 0, 16, 0, 0, 52, 23, 27, 13, 22, 8, 6, 25, 60, 30, 0, 0]))\n",
        "predictedPoints = NN.run(inputVector)\n",
        "print(\"The exptected FPL points earned is: \",predictedPoints)"
      ],
      "outputs": [
        {
          "output_type": "stream",
          "name": "stdout",
          "text": [
            "The exptected FPL points earned is:  35.85809064481461\n"
          ]
        }
      ],
      "execution_count": 16,
      "metadata": {}
    },
    {
      "cell_type": "markdown",
      "source": [
        "**3.3 Finding The Expected Points For A given Input Vector**\n",
        "\n",
        "\n",
        "Given an input vector, the Model Predicts total FLP points over an entire season to be earned as: The exptected FPL points earned is:  88. This was calculated using a learning rate of 0.3 and 100 trials. Numbers heuristically chosen based off the results of development testing viewing the graphs above. Obviously this will change depending on the learning rate and layers. However, we're interested in ranking players, so there might be less variation amond the ranking indexes than the overal number of predicted points."
      ],
      "metadata": {}
    },
    {
      "cell_type": "markdown",
      "source": [
        "**3.3 Local Min/Max Topology Using Gradient Descent**\n",
        "\n",
        "From the literature online, this problem is one quite pervasive to ML. My neural Net appears to have some bizzare local topography because the input vector is of dimensions 35 and some of those weights are negative. I think this would perform better with a pre-built ML package with better complexity, so I'll use one of those at the end to test my network.[1]"
      ],
      "metadata": {}
    },
    {
      "cell_type": "markdown",
      "source": [
        "# 3. Results Discussion\n",
        "\n",
        "**Ranking The Top Players**\n",
        "\n",
        "In order to test how well the project is performing, I will run each Player's test set through the trained model and then rank the players (argMax) based on their modeled performance. I will then compare this ranking to the actual rankings of players by total number of points. As a refresher, below is the table of players by total points."
      ],
      "metadata": {}
    },
    {
      "cell_type": "code",
      "source": [
        "totalPoints_df.head(20)"
      ],
      "outputs": [
        {
          "output_type": "execute_result",
          "execution_count": 17,
          "data": {
            "text/html": [
              "<div>\n",
              "<style scoped>\n",
              "    .dataframe tbody tr th:only-of-type {\n",
              "        vertical-align: middle;\n",
              "    }\n",
              "\n",
              "    .dataframe tbody tr th {\n",
              "        vertical-align: top;\n",
              "    }\n",
              "\n",
              "    .dataframe thead th {\n",
              "        text-align: right;\n",
              "    }\n",
              "</style>\n",
              "<table border=\"1\" class=\"dataframe\">\n",
              "  <thead>\n",
              "    <tr style=\"text-align: right;\">\n",
              "      <th></th>\n",
              "      <th>Player Name</th>\n",
              "      <th>FPL Points So Far</th>\n",
              "    </tr>\n",
              "  </thead>\n",
              "  <tbody>\n",
              "    <tr>\n",
              "      <th>0</th>\n",
              "      <td>Salah</td>\n",
              "      <td>230</td>\n",
              "    </tr>\n",
              "    <tr>\n",
              "      <th>1</th>\n",
              "      <td>Hazard</td>\n",
              "      <td>224</td>\n",
              "    </tr>\n",
              "    <tr>\n",
              "      <th>2</th>\n",
              "      <td>Sterling</td>\n",
              "      <td>223</td>\n",
              "    </tr>\n",
              "    <tr>\n",
              "      <th>3</th>\n",
              "      <td>Mané</td>\n",
              "      <td>201</td>\n",
              "    </tr>\n",
              "    <tr>\n",
              "      <th>4</th>\n",
              "      <td>Robertson</td>\n",
              "      <td>192</td>\n",
              "    </tr>\n",
              "    <tr>\n",
              "      <th>5</th>\n",
              "      <td>van Dijk</td>\n",
              "      <td>188</td>\n",
              "    </tr>\n",
              "    <tr>\n",
              "      <th>6</th>\n",
              "      <td>Agüero</td>\n",
              "      <td>184</td>\n",
              "    </tr>\n",
              "    <tr>\n",
              "      <th>7</th>\n",
              "      <td>Aubameyang</td>\n",
              "      <td>182</td>\n",
              "    </tr>\n",
              "    <tr>\n",
              "      <th>8</th>\n",
              "      <td>Pogba</td>\n",
              "      <td>174</td>\n",
              "    </tr>\n",
              "    <tr>\n",
              "      <th>9</th>\n",
              "      <td>Sigurdsson</td>\n",
              "      <td>171</td>\n",
              "    </tr>\n",
              "    <tr>\n",
              "      <th>10</th>\n",
              "      <td>Jiménez</td>\n",
              "      <td>170</td>\n",
              "    </tr>\n",
              "    <tr>\n",
              "      <th>11</th>\n",
              "      <td>Fraser</td>\n",
              "      <td>165</td>\n",
              "    </tr>\n",
              "    <tr>\n",
              "      <th>12</th>\n",
              "      <td>Lacazette</td>\n",
              "      <td>162</td>\n",
              "    </tr>\n",
              "    <tr>\n",
              "      <th>13</th>\n",
              "      <td>Alisson</td>\n",
              "      <td>162</td>\n",
              "    </tr>\n",
              "    <tr>\n",
              "      <th>14</th>\n",
              "      <td>Milivojevic</td>\n",
              "      <td>161</td>\n",
              "    </tr>\n",
              "    <tr>\n",
              "      <th>15</th>\n",
              "      <td>Firmino</td>\n",
              "      <td>160</td>\n",
              "    </tr>\n",
              "    <tr>\n",
              "      <th>16</th>\n",
              "      <td>Kane</td>\n",
              "      <td>160</td>\n",
              "    </tr>\n",
              "    <tr>\n",
              "      <th>17</th>\n",
              "      <td>Son</td>\n",
              "      <td>159</td>\n",
              "    </tr>\n",
              "    <tr>\n",
              "      <th>18</th>\n",
              "      <td>Vardy</td>\n",
              "      <td>157</td>\n",
              "    </tr>\n",
              "    <tr>\n",
              "      <th>19</th>\n",
              "      <td>Ederson</td>\n",
              "      <td>155</td>\n",
              "    </tr>\n",
              "  </tbody>\n",
              "</table>\n",
              "</div>"
            ],
            "text/plain": [
              "    Player Name  FPL Points So Far\n",
              "0         Salah                230\n",
              "1        Hazard                224\n",
              "2      Sterling                223\n",
              "3          Mané                201\n",
              "4     Robertson                192\n",
              "5      van Dijk                188\n",
              "6        Agüero                184\n",
              "7    Aubameyang                182\n",
              "8         Pogba                174\n",
              "9    Sigurdsson                171\n",
              "10      Jiménez                170\n",
              "11       Fraser                165\n",
              "12    Lacazette                162\n",
              "13      Alisson                162\n",
              "14  Milivojevic                161\n",
              "15      Firmino                160\n",
              "16         Kane                160\n",
              "17          Son                159\n",
              "18        Vardy                157\n",
              "19      Ederson                155"
            ]
          },
          "metadata": {}
        }
      ],
      "execution_count": 17,
      "metadata": {}
    },
    {
      "cell_type": "code",
      "source": [
        "learningRate = 0.45\n",
        "n_trials = 1000\n",
        "NN = NeuralNet(x, y, n_trials, learningRate)\n",
        "NN.train(x, y)\n",
        "\n",
        "playerModeledPoints = []\n",
        "for player in playerVectorDictionary:\n",
        "    testArray = playerVectorDictionary[player]\n",
        "    predictedPoints = NN.run(testArray)\n",
        "    playerModeledPoints.append((player, predictedPoints))\n"
      ],
      "outputs": [],
      "execution_count": 28,
      "metadata": {}
    },
    {
      "cell_type": "code",
      "source": [
        "playerModeledPoints.sort(key=lambda x: x[1], reverse=True)\n",
        "playerModeledPoints_df = pd.DataFrame(playerModeledPoints, columns = ['Player Name', 'Predicted Points'])\n",
        "playerModeledPoints_df.head(20)"
      ],
      "outputs": [
        {
          "output_type": "execute_result",
          "execution_count": 29,
          "data": {
            "text/html": [
              "<div>\n",
              "<style scoped>\n",
              "    .dataframe tbody tr th:only-of-type {\n",
              "        vertical-align: middle;\n",
              "    }\n",
              "\n",
              "    .dataframe tbody tr th {\n",
              "        vertical-align: top;\n",
              "    }\n",
              "\n",
              "    .dataframe thead th {\n",
              "        text-align: right;\n",
              "    }\n",
              "</style>\n",
              "<table border=\"1\" class=\"dataframe\">\n",
              "  <thead>\n",
              "    <tr style=\"text-align: right;\">\n",
              "      <th></th>\n",
              "      <th>Player Name</th>\n",
              "      <th>Predicted Points</th>\n",
              "    </tr>\n",
              "  </thead>\n",
              "  <tbody>\n",
              "    <tr>\n",
              "      <th>0</th>\n",
              "      <td>Jorginho</td>\n",
              "      <td>398.946781</td>\n",
              "    </tr>\n",
              "    <tr>\n",
              "      <th>1</th>\n",
              "      <td>van Dijk</td>\n",
              "      <td>390.013914</td>\n",
              "    </tr>\n",
              "    <tr>\n",
              "      <th>2</th>\n",
              "      <td>Laporte</td>\n",
              "      <td>365.173778</td>\n",
              "    </tr>\n",
              "    <tr>\n",
              "      <th>3</th>\n",
              "      <td>Rüdiger</td>\n",
              "      <td>341.802920</td>\n",
              "    </tr>\n",
              "    <tr>\n",
              "      <th>4</th>\n",
              "      <td>David Luiz</td>\n",
              "      <td>339.497284</td>\n",
              "    </tr>\n",
              "    <tr>\n",
              "      <th>5</th>\n",
              "      <td>Azpilicueta</td>\n",
              "      <td>319.150214</td>\n",
              "    </tr>\n",
              "    <tr>\n",
              "      <th>6</th>\n",
              "      <td>Alderweireld</td>\n",
              "      <td>311.044182</td>\n",
              "    </tr>\n",
              "    <tr>\n",
              "      <th>7</th>\n",
              "      <td>Robertson</td>\n",
              "      <td>307.074480</td>\n",
              "    </tr>\n",
              "    <tr>\n",
              "      <th>8</th>\n",
              "      <td>Stephens</td>\n",
              "      <td>290.338124</td>\n",
              "    </tr>\n",
              "    <tr>\n",
              "      <th>9</th>\n",
              "      <td>Walker</td>\n",
              "      <td>289.943442</td>\n",
              "    </tr>\n",
              "    <tr>\n",
              "      <th>10</th>\n",
              "      <td>Xhaka</td>\n",
              "      <td>289.248291</td>\n",
              "    </tr>\n",
              "    <tr>\n",
              "      <th>11</th>\n",
              "      <td>Bennett</td>\n",
              "      <td>288.622153</td>\n",
              "    </tr>\n",
              "    <tr>\n",
              "      <th>12</th>\n",
              "      <td>Kanté</td>\n",
              "      <td>283.014023</td>\n",
              "    </tr>\n",
              "    <tr>\n",
              "      <th>13</th>\n",
              "      <td>Fernandinho</td>\n",
              "      <td>279.210101</td>\n",
              "    </tr>\n",
              "    <tr>\n",
              "      <th>14</th>\n",
              "      <td>Pogba</td>\n",
              "      <td>271.482411</td>\n",
              "    </tr>\n",
              "    <tr>\n",
              "      <th>15</th>\n",
              "      <td>Ndidi</td>\n",
              "      <td>270.408862</td>\n",
              "    </tr>\n",
              "    <tr>\n",
              "      <th>16</th>\n",
              "      <td>Milivojevic</td>\n",
              "      <td>265.542647</td>\n",
              "    </tr>\n",
              "    <tr>\n",
              "      <th>17</th>\n",
              "      <td>Neves</td>\n",
              "      <td>263.058187</td>\n",
              "    </tr>\n",
              "    <tr>\n",
              "      <th>18</th>\n",
              "      <td>Doucouré</td>\n",
              "      <td>259.503912</td>\n",
              "    </tr>\n",
              "    <tr>\n",
              "      <th>19</th>\n",
              "      <td>Moutinho</td>\n",
              "      <td>256.376516</td>\n",
              "    </tr>\n",
              "  </tbody>\n",
              "</table>\n",
              "</div>"
            ],
            "text/plain": [
              "     Player Name  Predicted Points\n",
              "0       Jorginho        398.946781\n",
              "1       van Dijk        390.013914\n",
              "2        Laporte        365.173778\n",
              "3        Rüdiger        341.802920\n",
              "4     David Luiz        339.497284\n",
              "5    Azpilicueta        319.150214\n",
              "6   Alderweireld        311.044182\n",
              "7      Robertson        307.074480\n",
              "8       Stephens        290.338124\n",
              "9         Walker        289.943442\n",
              "10         Xhaka        289.248291\n",
              "11       Bennett        288.622153\n",
              "12         Kanté        283.014023\n",
              "13   Fernandinho        279.210101\n",
              "14         Pogba        271.482411\n",
              "15         Ndidi        270.408862\n",
              "16   Milivojevic        265.542647\n",
              "17         Neves        263.058187\n",
              "18      Doucouré        259.503912\n",
              "19      Moutinho        256.376516"
            ]
          },
          "metadata": {}
        }
      ],
      "execution_count": 29,
      "metadata": {}
    },
    {
      "cell_type": "markdown",
      "source": [
        "**Interpreting Test Results**\n",
        "\n",
        "Ok, so if you follow football you will recognize these names! That means the network is predicting what I (human) consider to be good players. They are not exactly the same as the players with the most points (but we should not expect it to be). The counts for total points are slightly lower than expected, but this is uniform accross all players, and is probably due to initializing weights, or not giving enough iterations to reach full saturation."
      ],
      "metadata": {}
    },
    {
      "cell_type": "markdown",
      "source": [
        "**Quantifying Test Results**\n",
        "\n",
        "Two Ideas:\n",
        "1. Find the difference between actual totals and predicted totals for each player -- run average and standard deviation of the mean to determine if they are statistically significantly different (hoping they are not)\n",
        "2. Plot each player as a dot where the x axis is their predicted score and the y axis is their actual score."
      ],
      "metadata": {}
    },
    {
      "cell_type": "code",
      "source": [
        "actual = dict(findTotalPoints())\n",
        "predicted = dict(playerModeledPoints)\n",
        "comparison = {}\n",
        "for player in predicted.keys():\n",
        "    comparison[player] = (predicted[player], actual[player])\n",
        "\n",
        "predicted, actual = zip(*comparison.values())\n",
        "t2, p2 = stats.ttest_ind(predicted, actual)\n",
        "print(\"t test:\",t2, \"p value:\",p2)"
      ],
      "outputs": [
        {
          "output_type": "stream",
          "name": "stdout",
          "text": [
            "t test: 9.204507394507482 p value: 1.5319091732672563e-19\n"
          ]
        }
      ],
      "execution_count": 30,
      "metadata": {}
    },
    {
      "cell_type": "markdown",
      "source": [
        "**Interpreting t and p values:**\n",
        "\n",
        "The t value of 0.08 suggest there is very little difference between the two sets (a t test of 0 means they are identical). However, the p value is not significant. This could be due to the fact that there are quite a few outlying players in the premier league who rarely play any games. In fact, if they are awarded zero points by our model but happen to score once in the year, this could very well contribute to the poor p value. We can run this same calculation again filtering for points over 10 to try to weed out strange players, but based on the graph below, it looks like the widest variation actually occurs as player points get higher!\n",
        "\n",
        "**Updated Values**\n",
        "Upon running the code a second time, the resuts t test: 9.20 p value: 1.53e-19 were obtained. This is actually the reverse of the first time: the two sets were fairly different, but the results were *highly* significant. I'm not sure what to make of this except to think that the model is iterating under a stochastic environment. For these results to be the same I would need to run the model perhaps 10,000 times, but such computation is highly intensive. The two test each take about 1-2 minutes to run on my computer as it is right now. "
      ],
      "metadata": {}
    },
    {
      "cell_type": "markdown",
      "source": [
        "**Visualizing Results**\n",
        "\n",
        "Below is a visual guide to the results. I have plotted predicted points against actual points where each dot represents a player. As anticipated, there is a correlation! This means, the model is roughly correct in predicting actual points. However, it begins to be more wild as the total points under consideration rises. Technically, the SSD increases for samples with a greater deviation from the mean points awarded."
      ],
      "metadata": {}
    },
    {
      "cell_type": "code",
      "source": [
        "plt.figure(figsize=(30,15))\n",
        "plt.plot(predicted, actual, 'ro')\n",
        "plt.xlabel(\"Predicted FPL Points\", fontsize=20)\n",
        "plt.ylabel(\"Actual FPL Points\", fontsize=20)\n",
        "plt.title(\"FPL Points By Player\", fontsize=25)\n",
        "plt.show()"
      ],
      "outputs": [
        {
          "output_type": "display_data",
          "data": {
            "image/png": "[encoded data removed]",
            "text/plain": [
              "<Figure size 2160x1080 with 1 Axes>"
            ]
          },
          "metadata": {
            "needs_background": "light"
          }
        }
      ],
      "execution_count": 31,
      "metadata": {}
    },
    {
      "cell_type": "markdown",
      "source": [
        "# 4. Discussion Conclusions Based On Results"
      ],
      "metadata": {}
    },
    {
      "cell_type": "markdown",
      "source": [
        "**Overall Results Quality**\n",
        "\n",
        "Overall the results are fairly good. The model predicuted high quality players, and the model's predicted FPL points matched the actual FPL points well. While the figure above does exhibit heteroskedasticity, this could be due to the use of bonus points in FPL rules, which were not modeled as part of this practicum [2]. \n",
        "\n",
        "In terms of quantifying these resulst, I performed a t test to test the difference between the set of predicted and actual scores. With a t value of 0.08 we can conclude that they are not very different, but the p value was 0.93, far above the industry standard of 0.05, so the results are not statistically significant no matter how visually compelling they may be. \n",
        "\n",
        "On a more philosophical note, it may be that we can use machine learning to preduct the quality of soccer players at all levels except the highest level. We see the SSE of a player actual vs predicted score increasing when total FPL points is above 150. There are only about 20 players in the entire league whose points *are over 150*, so it may be that \"star power\" is something altogether more mysterious and special than statistics let us believe....\n",
        "\n",
        "\n",
        "**Potenential Improvements**\n",
        "\n",
        "Perhaps a more complicated model would be able to pick out the fine grain details of what sets a superstar soccer player apart from his teammates. Adding more node layers to the network would be an interesting case to pursue this further. Afterall, some of the most expensive superstar players in the premier league (Paul Pogba and Alexis Sanchez) have both dazzeled for their prior teams and national teams yet are not living up to their previous goal-scoring numbers. Pogba remains quite high on the total FPL points list largegely because of passes and assists. "
      ],
      "metadata": {}
    },
    {
      "cell_type": "code",
      "source": [],
      "outputs": [],
      "execution_count": null,
      "metadata": {}
    }
  ],
  "metadata": {
    "kernelspec": {
      "name": "python3",
      "language": "python",
      "display_name": "Python 3"
    },
    "language_info": {
      "name": "python",
      "version": "3.7.1",
      "mimetype": "text/x-python",
      "codemirror_mode": {
        "name": "ipython",
        "version": 3
      },
      "pygments_lexer": "ipython3",
      "nbconvert_exporter": "python",
      "file_extension": ".py"
    },
    "kernel_info": {
      "name": "python3"
    },
    "nteract": {
      "version": "0.14.3"
    }
  },
  "nbformat": 4,
  "nbformat_minor": 2
}
